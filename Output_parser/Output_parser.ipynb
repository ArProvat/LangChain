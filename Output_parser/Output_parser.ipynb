{
  "nbformat": 4,
  "nbformat_minor": 0,
  "metadata": {
    "colab": {
      "provenance": []
    },
    "kernelspec": {
      "name": "python3",
      "display_name": "Python 3"
    },
    "language_info": {
      "name": "python"
    }
  },
  "cells": [
    {
      "cell_type": "code",
      "execution_count": 1,
      "metadata": {
        "colab": {
          "base_uri": "https://localhost:8080/"
        },
        "id": "P3ut3d2jnKFu",
        "outputId": "46659171-ff78-4e49-bf48-af523ab1388a"
      },
      "outputs": [
        {
          "output_type": "stream",
          "name": "stdout",
          "text": [
            "Requirement already satisfied: langchain in /usr/local/lib/python3.11/dist-packages (0.3.26)\n",
            "Requirement already satisfied: langchain-huggingface in /usr/local/lib/python3.11/dist-packages (0.3.0)\n",
            "Requirement already satisfied: huggingface_hub in /usr/local/lib/python3.11/dist-packages (0.33.4)\n",
            "Requirement already satisfied: langchain-core<1.0.0,>=0.3.66 in /usr/local/lib/python3.11/dist-packages (from langchain) (0.3.68)\n",
            "Requirement already satisfied: langchain-text-splitters<1.0.0,>=0.3.8 in /usr/local/lib/python3.11/dist-packages (from langchain) (0.3.8)\n",
            "Requirement already satisfied: langsmith>=0.1.17 in /usr/local/lib/python3.11/dist-packages (from langchain) (0.4.5)\n",
            "Requirement already satisfied: pydantic<3.0.0,>=2.7.4 in /usr/local/lib/python3.11/dist-packages (from langchain) (2.11.7)\n",
            "Requirement already satisfied: SQLAlchemy<3,>=1.4 in /usr/local/lib/python3.11/dist-packages (from langchain) (2.0.41)\n",
            "Requirement already satisfied: requests<3,>=2 in /usr/local/lib/python3.11/dist-packages (from langchain) (2.32.3)\n",
            "Requirement already satisfied: PyYAML>=5.3 in /usr/local/lib/python3.11/dist-packages (from langchain) (6.0.2)\n",
            "Requirement already satisfied: tokenizers>=0.19.1 in /usr/local/lib/python3.11/dist-packages (from langchain-huggingface) (0.21.2)\n",
            "Requirement already satisfied: filelock in /usr/local/lib/python3.11/dist-packages (from huggingface_hub) (3.18.0)\n",
            "Requirement already satisfied: fsspec>=2023.5.0 in /usr/local/lib/python3.11/dist-packages (from huggingface_hub) (2025.3.2)\n",
            "Requirement already satisfied: packaging>=20.9 in /usr/local/lib/python3.11/dist-packages (from huggingface_hub) (24.2)\n",
            "Requirement already satisfied: tqdm>=4.42.1 in /usr/local/lib/python3.11/dist-packages (from huggingface_hub) (4.67.1)\n",
            "Requirement already satisfied: typing-extensions>=3.7.4.3 in /usr/local/lib/python3.11/dist-packages (from huggingface_hub) (4.14.1)\n",
            "Requirement already satisfied: hf-xet<2.0.0,>=1.1.2 in /usr/local/lib/python3.11/dist-packages (from huggingface_hub) (1.1.5)\n",
            "Requirement already satisfied: tenacity!=8.4.0,<10.0.0,>=8.1.0 in /usr/local/lib/python3.11/dist-packages (from langchain-core<1.0.0,>=0.3.66->langchain) (8.5.0)\n",
            "Requirement already satisfied: jsonpatch<2.0,>=1.33 in /usr/local/lib/python3.11/dist-packages (from langchain-core<1.0.0,>=0.3.66->langchain) (1.33)\n",
            "Requirement already satisfied: httpx<1,>=0.23.0 in /usr/local/lib/python3.11/dist-packages (from langsmith>=0.1.17->langchain) (0.28.1)\n",
            "Requirement already satisfied: orjson<4.0.0,>=3.9.14 in /usr/local/lib/python3.11/dist-packages (from langsmith>=0.1.17->langchain) (3.10.18)\n",
            "Requirement already satisfied: requests-toolbelt<2.0.0,>=1.0.0 in /usr/local/lib/python3.11/dist-packages (from langsmith>=0.1.17->langchain) (1.0.0)\n",
            "Requirement already satisfied: zstandard<0.24.0,>=0.23.0 in /usr/local/lib/python3.11/dist-packages (from langsmith>=0.1.17->langchain) (0.23.0)\n",
            "Requirement already satisfied: annotated-types>=0.6.0 in /usr/local/lib/python3.11/dist-packages (from pydantic<3.0.0,>=2.7.4->langchain) (0.7.0)\n",
            "Requirement already satisfied: pydantic-core==2.33.2 in /usr/local/lib/python3.11/dist-packages (from pydantic<3.0.0,>=2.7.4->langchain) (2.33.2)\n",
            "Requirement already satisfied: typing-inspection>=0.4.0 in /usr/local/lib/python3.11/dist-packages (from pydantic<3.0.0,>=2.7.4->langchain) (0.4.1)\n",
            "Requirement already satisfied: charset-normalizer<4,>=2 in /usr/local/lib/python3.11/dist-packages (from requests<3,>=2->langchain) (3.4.2)\n",
            "Requirement already satisfied: idna<4,>=2.5 in /usr/local/lib/python3.11/dist-packages (from requests<3,>=2->langchain) (3.10)\n",
            "Requirement already satisfied: urllib3<3,>=1.21.1 in /usr/local/lib/python3.11/dist-packages (from requests<3,>=2->langchain) (2.4.0)\n",
            "Requirement already satisfied: certifi>=2017.4.17 in /usr/local/lib/python3.11/dist-packages (from requests<3,>=2->langchain) (2025.7.14)\n",
            "Requirement already satisfied: greenlet>=1 in /usr/local/lib/python3.11/dist-packages (from SQLAlchemy<3,>=1.4->langchain) (3.2.3)\n",
            "Requirement already satisfied: anyio in /usr/local/lib/python3.11/dist-packages (from httpx<1,>=0.23.0->langsmith>=0.1.17->langchain) (4.9.0)\n",
            "Requirement already satisfied: httpcore==1.* in /usr/local/lib/python3.11/dist-packages (from httpx<1,>=0.23.0->langsmith>=0.1.17->langchain) (1.0.9)\n",
            "Requirement already satisfied: h11>=0.16 in /usr/local/lib/python3.11/dist-packages (from httpcore==1.*->httpx<1,>=0.23.0->langsmith>=0.1.17->langchain) (0.16.0)\n",
            "Requirement already satisfied: jsonpointer>=1.9 in /usr/local/lib/python3.11/dist-packages (from jsonpatch<2.0,>=1.33->langchain-core<1.0.0,>=0.3.66->langchain) (3.0.0)\n",
            "Requirement already satisfied: sniffio>=1.1 in /usr/local/lib/python3.11/dist-packages (from anyio->httpx<1,>=0.23.0->langsmith>=0.1.17->langchain) (1.3.1)\n"
          ]
        }
      ],
      "source": [
        "!pip install langchain langchain-huggingface huggingface_hub"
      ]
    },
    {
      "cell_type": "code",
      "source": [
        "from google.colab import userdata\n",
        "import os\n",
        "os.environ['HUGGINGFACEHUB_API_TOKEN'] = userdata.get('HUGGINGFACEHUB_API_TOKEN')\n"
      ],
      "metadata": {
        "id": "-h8JznZ6oL0k"
      },
      "execution_count": 13,
      "outputs": []
    },
    {
      "cell_type": "markdown",
      "source": [
        "# StrOutput parser\n",
        " It takes the raw output from the language model and returns it as a plain string, without making any changes or trying to structure it."
      ],
      "metadata": {
        "id": "Y-_O8py4sCoq"
      }
    },
    {
      "cell_type": "code",
      "source": [
        "from langchain_huggingface import HuggingFaceEndpoint,ChatHuggingFace\n",
        "from langchain_core.prompts import PromptTemplate\n",
        "from langchain_core.output_parsers import StrOutputParser\n",
        "\n",
        "llm = HuggingFaceEndpoint(repo_id='mistralai/Mistral-7B-Instruct-v0.2',temperature=0.7)\n",
        "model = ChatHuggingFace(llm=llm )\n",
        "\n",
        "prompt_1 = PromptTemplate(\n",
        "    template=\"Write a details report on {topic}\",\n",
        "    input_variables=[\"topic\"],\n",
        ")\n",
        "prompt_2 = PromptTemplate(\n",
        "    template=\"summarize this {text} in 5 line\",\n",
        "    input_variables=[\"text\"],\n",
        ")\n",
        "parser = StrOutputParser()\n",
        "\n",
        "chain = prompt_1 | model | parser | prompt_2 | model | parser\n",
        "\n",
        "chain.invoke({\"topic\":\"Attention machanism\"})"
      ],
      "metadata": {
        "colab": {
          "base_uri": "https://localhost:8080/",
          "height": 194
        },
        "id": "RrmVLXOJo2sa",
        "outputId": "82193d07-bc4a-454d-e478-363143f240d5"
      },
      "execution_count": 3,
      "outputs": [
        {
          "output_type": "stream",
          "name": "stderr",
          "text": [
            "/usr/local/lib/python3.11/dist-packages/huggingface_hub/utils/_auth.py:94: UserWarning: \n",
            "The secret `HF_TOKEN` does not exist in your Colab secrets.\n",
            "To authenticate with the Hugging Face Hub, create a token in your settings tab (https://huggingface.co/settings/tokens), set it as secret in your Google Colab and restart your session.\n",
            "You will be able to reuse this secret in all of your notebooks.\n",
            "Please note that authentication is recommended but still optional to access public models or datasets.\n",
            "  warnings.warn(\n"
          ]
        },
        {
          "output_type": "execute_result",
          "data": {
            "text/plain": [
              "' Attention mechanisms are a vital component in deep learning, particularly for NLP and computer vision, allowing models to focus on relevant input data and improve performance. Self-attention, used in the Transformer model, enables each position in the sequence to attend to all others. Other types include dot-product, multi-head, and scaled dot-product attention. Attention mechanisms have led to state-of-the-art results in NLP tasks.'"
            ],
            "application/vnd.google.colaboratory.intrinsic+json": {
              "type": "string"
            }
          },
          "metadata": {},
          "execution_count": 3
        }
      ]
    },
    {
      "cell_type": "markdown",
      "source": [
        "# JsonOutputPerser\n",
        "\n",
        "Parse the output of an LLM call to a JSON object."
      ],
      "metadata": {
        "id": "GCDg_efeNLmf"
      }
    },
    {
      "cell_type": "code",
      "source": [
        "from langchain_huggingface import HuggingFaceEndpoint,ChatHuggingFace\n",
        "from langchain_core.prompts import PromptTemplate\n",
        "from langchain_core.output_parsers import JsonOutputParser\n",
        "\n",
        "llm = HuggingFaceEndpoint(repo_id='mistralai/Mistral-7B-Instruct-v0.2',temperature=0.5)\n",
        "model =ChatHuggingFace(llm=llm )\n",
        "\n",
        "parser = JsonOutputParser()\n",
        "prompt_1 = PromptTemplate(\n",
        "    template ='write a 5 fact about {topic} /n {format_instructions}',\n",
        "    input_variables=[\"topic\"],\n",
        "    partial_variables={'format_instructions': parser.get_format_instructions()}\n",
        ")\n",
        "chain =prompt_1 | model | parser\n",
        "\n",
        "chain.invoke({\"topic\":\"Earth\"})"
      ],
      "metadata": {
        "colab": {
          "base_uri": "https://localhost:8080/"
        },
        "id": "rOQYGUyXNKxe",
        "outputId": "02f5a448-9196-4631-aa78-f0821cb81ed7"
      },
      "execution_count": 4,
      "outputs": [
        {
          "output_type": "execute_result",
          "data": {
            "text/plain": [
              "{'fact1': 'The Earth is the third planet from the Sun and the fifth largest among the eight planets in the Solar System.',\n",
              " 'fact2': \"The Earth's surface is approximately 510 million square kilometers (197 million square miles). About 71% of it is covered by water and the remaining 29% by land.\",\n",
              " 'fact3': 'The interior of the Earth is divided into three main layers: the outer crust, the mantle, and the inner core. The inner core is the hottest place in the Solar System, with temperatures estimated to be around 5,500 degrees Celsius (9,932 degrees Fahrenheit).',\n",
              " 'fact4': \"The Earth's Axial Tilt is responsible for the seasons. The tilt is 23.5 degrees relative to the ecliptic: this is one reason for the seasons, as the amount of the Sun's rays reaching the Earth varies throughout the year.\",\n",
              " 'fact5': \"The Earth's atmosphere is primarily composed of nitrogen (78%) and oxygen (21%), with traces of water vapor, carbon dioxide, and other gases. The atmosphere shields us from solar radiation and high-energy particles, as well as providing the basis for weather patterns and the support of life.\"}"
            ]
          },
          "metadata": {},
          "execution_count": 4
        }
      ]
    },
    {
      "cell_type": "markdown",
      "source": [
        "# StructuredOutputParser\n",
        "The StructuredOutputParser in LangChain is a powerful tool used to parse the raw text output from a Large Language Model (LLM) into a predefined, structured format"
      ],
      "metadata": {
        "id": "PfOt3oKPS72H"
      }
    },
    {
      "cell_type": "code",
      "source": [
        "from langchain_huggingface import HuggingFaceEndpoint,ChatHuggingFace\n",
        "from langchain_core.prompts import PromptTemplate\n",
        "from langchain.output_parsers import StructuredOutputParser, ResponseSchema\n",
        "\n",
        "llm = HuggingFaceEndpoint(repo_id='mistralai/Mistral-7B-Instruct-v0.2',temperature=0.5)\n",
        "model =ChatHuggingFace(llm=llm )\n",
        "\n",
        "\n",
        "parser =StructuredOutputParser.from_response_schemas([\n",
        "    ResponseSchema(name='book name',description='what is the name of the book'),\n",
        "    ResponseSchema(name='auther',description='who is auther of the book'),\n",
        "    ResponseSchema(name='genra',description='what is the genra of the book')\n",
        "])\n",
        "\n",
        "prompt = PromptTemplate(\n",
        "    template = 'Give me fllowing information of this {name} book _ book name ,auther ,genra /n {format_instructions} ',\n",
        "    input_variables=[\"name\"],\n",
        "    partial_variables={'format_instructions': parser.get_format_instructions()}\n",
        ")\n",
        "\n",
        "chain = prompt | model | parser\n",
        "\n",
        "chain.invoke({\"name\":'herry potter'})"
      ],
      "metadata": {
        "colab": {
          "base_uri": "https://localhost:8080/"
        },
        "id": "ikmAc4SYS7V7",
        "outputId": "484480f1-86a1-4eeb-ed79-f78f8c1e873d"
      },
      "execution_count": 8,
      "outputs": [
        {
          "output_type": "execute_result",
          "data": {
            "text/plain": [
              "{'book name': \"Harry Potter and the Philosopher's Stone\",\n",
              " 'auther': 'J.K. Rowling',\n",
              " 'genra': 'Fantasy'}"
            ]
          },
          "metadata": {},
          "execution_count": 8
        }
      ]
    },
    {
      "cell_type": "markdown",
      "source": [
        "# PydanticOutputParser\n",
        "Parse an output using a pydantic model.\n",
        "\n"
      ],
      "metadata": {
        "id": "z2VqVkm3V-lZ"
      }
    },
    {
      "cell_type": "code",
      "source": [
        "!pip install pydantic"
      ],
      "metadata": {
        "colab": {
          "base_uri": "https://localhost:8080/"
        },
        "id": "-4IdybQcWYKk",
        "outputId": "7f35e3a2-f2ed-4a85-8e65-bc5cb21e6a0c"
      },
      "execution_count": 9,
      "outputs": [
        {
          "output_type": "stream",
          "name": "stdout",
          "text": [
            "Requirement already satisfied: pydantic in /usr/local/lib/python3.11/dist-packages (2.11.7)\n",
            "Requirement already satisfied: annotated-types>=0.6.0 in /usr/local/lib/python3.11/dist-packages (from pydantic) (0.7.0)\n",
            "Requirement already satisfied: pydantic-core==2.33.2 in /usr/local/lib/python3.11/dist-packages (from pydantic) (2.33.2)\n",
            "Requirement already satisfied: typing-extensions>=4.12.2 in /usr/local/lib/python3.11/dist-packages (from pydantic) (4.14.1)\n",
            "Requirement already satisfied: typing-inspection>=0.4.0 in /usr/local/lib/python3.11/dist-packages (from pydantic) (0.4.1)\n"
          ]
        }
      ]
    },
    {
      "cell_type": "code",
      "source": [
        "from langchain_huggingface import HuggingFaceEndpoint, ChatHuggingFace\n",
        "from langchain_core.prompts import PromptTemplate\n",
        "from langchain_core.output_parsers import PydanticOutputParser\n",
        "from pydantic import BaseModel, Field\n",
        "from typing import List\n",
        "\n",
        "\n",
        "llm = HuggingFaceEndpoint(repo_id='mistralai/Mistral-7B-Instruct-v0.2', temperature=0.5)\n",
        "model = ChatHuggingFace(llm=llm)\n",
        "\n",
        "# Define the Pydantic model with corrections\n",
        "class Book(BaseModel):\n",
        "    book_name: str = Field(description='what is the name of the book')\n",
        "    author: str = Field(description='who is the author of the book')\n",
        "    genre: str = Field(description='what is the genre of the book')\n",
        "    hero: str = Field(description='who is the hero of the book')\n",
        "    villain: str = Field(description='who is the villain of the book')\n",
        "    main_character: List[str] = Field(description='who are the main characters of the book')\n",
        "\n",
        "parser = PydanticOutputParser(pydantic_object=Book)\n",
        "\n",
        "prompt = PromptTemplate(\n",
        "    template=\"\"\"Extract the following information about the book \"{name}\":\n",
        "- Book Name\n",
        "- Author\n",
        "- Genre\n",
        "- Hero\n",
        "- Villain\n",
        "- Main Characters (as a list)\n",
        "\n",
        "{format_instructions}\n",
        "\n",
        "Book: {name}\n",
        "\"\"\",\n",
        "    input_variables=[\"name\"],\n",
        "    partial_variables={'format_instructions': parser.get_format_instructions()}\n",
        ")\n",
        "\n",
        "chain = prompt | model | parser\n",
        "\n",
        "\n",
        "try:\n",
        "    result = chain.invoke({\"name\": \"Harry Potter and the Philosopher's Stone\"})\n",
        "    print(\"Parsing successful!\")\n",
        "    print(result.model_dump_json(indent=2))\n",
        "except Exception as e:\n",
        "    print(f\"An error occurred during invocation or parsing: {e}\")\n"
      ],
      "metadata": {
        "colab": {
          "base_uri": "https://localhost:8080/"
        },
        "id": "oObdrP5TVv2t",
        "outputId": "fc8f2b01-6f70-40e9-e328-1582afa7afed"
      },
      "execution_count": 12,
      "outputs": [
        {
          "output_type": "stream",
          "name": "stdout",
          "text": [
            "Parsing successful!\n",
            "{\n",
            "  \"book_name\": \"Harry Potter and the Philosopher's Stone\",\n",
            "  \"author\": \"J.K. Rowling\",\n",
            "  \"genre\": \"Fantasy\",\n",
            "  \"hero\": \"Harry Potter\",\n",
            "  \"villain\": \"Sorcerer's Stone (Metamorphoned into Quirrell) / Lord Voldemort\",\n",
            "  \"main_character\": [\n",
            "    \"Harry Potter\",\n",
            "    \"Ron Weasley\",\n",
            "    \"Hermione Granger\",\n",
            "    \"Professor Albus Dumbledore\",\n",
            "    \"Professor Severus Snape\",\n",
            "    \"Professor Quirinus Quirrell\",\n",
            "    \"Ron's Brothers (Arthur, Fred, George, Percy)\",\n",
            "    \"Tom Riddle (Flashbacks)\",\n",
            "    \"Arthur Weasley\",\n",
            "    \"Neville Longbottom\",\n",
            "    \"Gilderoy Lockhart\",\n",
            "    \"Hagrid\",\n",
            "    \"Ginny Weasley\",\n",
            "    \"Fawkes (Theophilus Nigel)\",\n",
            "    \"Nearly Headless Nick\",\n",
            "    \"Moaning Myrtle\",\n",
            "    \"Professor Minerva McGonagall\",\n",
            "    \"Professor Pomona Sprout\",\n",
            "    \"Professor Filius Flitwick\"\n",
            "  ]\n",
            "}\n"
          ]
        }
      ]
    },
    {
      "cell_type": "code",
      "source": [],
      "metadata": {
        "id": "gUPJBcXEVezn"
      },
      "execution_count": null,
      "outputs": []
    }
  ]
}